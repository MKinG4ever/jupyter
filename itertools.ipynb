#%% md
# functools Modules
#%%
from functools import partial


def power(base, exponent):
    return base ** exponent


square = partial(power, exponent=2)
cube = partial(power, exponent=3)

print(square(5))  # Output: 25
print(cube(5))  # Output: 125

#%% md
# itertools MODULES
#%% md
# count(start=0, step=1):
Parameters:
- start: The starting value of the sequence (default is 0).
- step: The step size by which consecutive elements differ (default is 1).

# cycle(iterable):
Parameters:
- iterable: The iterable to cycle through.

# repeat(elem, times=None):
Parameters:
- elem: The element to repeat.
- times: The number of times to repeat the element. If times is None, the element is repeated indefinitely.

# chain(*iterables):
Parameters:
- *iterables: Any number of iterable objects to chain together.

# islice(iterable, stop):
Parameters:
- iterable: The iterable to slice.
- stop: The stopping index.

# product(*iterables, repeat=1):
Parameters:
- *iterables: Any number of iterables to compute the Cartesian product from.
- repeat: The number of repetitions for each element (default is 1).

# permutations(iterable, r=None):
Parameters:
- iterable: The iterable to generate permutations from.
- r: The length of each permutation. If r is None, all possible permutations of the iterable are generated.

# combinations(iterable, r):
Parameters:
- iterable: The iterable to generate combinations from.
- r: The length of each combination.
#%% md
# - Basic Concepts:
#%% md
# 1. itertools.count(start=0, step=1):
- This function generates an infinite sequence of numbers starting from start with a step of step.
- Useful for creating simple arithmetic progressions.
#%%
from itertools import count

for i in count(1, 2):
    print(i)
    if i > 10:
        break
#%% md
# 2. itertools.cycle(iterable):
- This function cycles through the elements of an iterable indefinitely.
- Useful for iterating over a sequence repeatedly.
#%%
from itertools import cycle

colors = cycle(['red', 'green', 'blue'])
for _ in range(5):
    print(next(colors))
#%% md
# 3. itertools.repeat(elem, times=None):
- This function repeats the same element indefinitely or a specified number of times.
- Useful for creating an iterator that produces the same value repeatedly.
#%%
from itertools import repeat

for i in repeat('hello', 3):
    print(i)
#%% md
# - Intermediate Concepts:
#%% md
# 4. itertools.chain(*iterables):
- This function chains multiple iterables together into a single iterable sequence.
- Useful for combining sequences into one.
#%%
from itertools import chain

letters = ['a', 'b', 'c']
numbers = [1, 2, 3]
combined = chain(letters, numbers)
print(list(combined))
#%% md
# 5. itertools.islice(iterable, stop):
- This function returns an iterator that returns selected elements from the input iterable.
- Useful for slicing iterables similar to slicing lists.
#%%
from itertools import islice

numbers = range(10)
sliced = islice(numbers, 3)
print(list(sliced))  # Output: [0, 1, 2]
#%% md
# Advanced Concepts:
#%% md
# 6. itertools.product(*iterables, repeat=1):
- This function computes the Cartesian product of input iterables.
- Useful for generating combinations of elements from multiple iterables.
#%%
from itertools import product

colors = ['red', 'green']
sizes = ['S', 'M']
combos = product(colors, sizes)
print(list(combos))
#%% md
# 7. itertools.permutations(iterable, r=None):
- This function returns all possible permutations of elements in the iterable.
- Useful for generating all possible orderings of a sequence.
#%%
from itertools import permutations

items = ['a', 'b', 'c']
perms = permutations(items)
print(list(perms))
#%% md
# 8. itertools.combinations(iterable, r):
- This function returns all possible combinations of elements in the iterable, without regard to the order.
- Useful for generating combinations of a specific length.
#%%
from itertools import combinations

items = ['a', 'b', 'c']
combs = combinations(items, 2)
print(list(combs))
#%% md
# - PRO
#%%
from itertools import permutations, combinations, product
#%%
# Permutations
items = ['a', 'b', 'c']
perm = permutations(items,2)  # possible choices "With" repeat
print(list(perm))  # Output: [('a', 'b'), ('a', 'c'), ('b', 'a'), ('b', 'c'), ('c', 'a'), ('c', 'b')]


# Combinations
comb = combinations(items, 2)  # possible choices "Without" repeat
print(list(comb))  # Output: [('a', 'b'), ('a', 'c'), ('b', 'c')]


# Product
possibility = product(items, repeat=2)  # Create all possible combinations of length 2
print(list(possibility))  # Output: [('a', 'a'), ('a', 'b'), ('a', 'c'), ('b', 'a'), ('b', 'b'), ('b', 'c'), ('c', 'a'), ('c', 'b'), ('c', 'c')]

#%%
# Permutations
items = ['a', 'b', 'c']
perm = permutations(items,3)
print(list(perm))  # Output: [('a', 'b', 'c'), ('a', 'c', 'b'), ('b', 'a', 'c'), ('b', 'c', 'a'), ('c', 'a', 'b'), ('c', 'b', 'a')]


# Combinations
comb = combinations(items, 3)  # possible choices without repeat
print(list(comb))  # Output: [('a', 'b', 'c')]


# Product
possibility = product(items, repeat=3)  # Create all possible combinations of length 3
print(list(possibility))  # Output: [('a', 'a', 'a'), ('a', 'a', 'b'), ('a', 'a', 'c'), ('a', 'b', 'a'), ('a', 'b', 'b'), ('a', 'b', 'c'), ('a', 'c', 'a'), ('a', 'c', 'b'), ('a', 'c', 'c'), ('b', 'a', 'a'), ...
