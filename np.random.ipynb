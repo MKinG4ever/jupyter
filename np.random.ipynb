#%%
import numpy as np
#%%
# arrange
#%%
np.arange(-5, 5)  # start, stop, step
#%%
np.linspace(-5, 5, 10)  # start, stop, number
#%%
# random
#%%
np.random.random([5, 3])  # size
#%%
np.random.rand(5, 3)  # dn
#%%
np.random.randn(5,3)  # dn
#%%
np.random.randint(0, 100, [5, 3])  # low, high, size
#%%
np.random.standard_normal([3, 5])  # size
#%%
np.random.uniform(0, 100, [5, 3])  # low, high, size
